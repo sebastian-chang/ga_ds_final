{
 "cells": [
  {
   "cell_type": "markdown",
   "metadata": {},
   "source": [
    "# Final Project Part 2 - Exploratory Data Analysis"
   ]
  },
  {
   "cell_type": "markdown",
   "metadata": {},
   "source": [
    "## 1. Import Python Libraries"
   ]
  },
  {
   "cell_type": "code",
   "execution_count": 1,
   "metadata": {},
   "outputs": [],
   "source": [
    "import pandas as pd\n",
    "import matplotlib.pyplot as plt\n",
    "import numpy as np\n",
    "import seaborn as sns"
   ]
  },
  {
   "cell_type": "code",
   "execution_count": 2,
   "metadata": {},
   "outputs": [],
   "source": [
    "%matplotlib inline"
   ]
  },
  {
   "cell_type": "markdown",
   "metadata": {},
   "source": [
    "## 2. Load Data to DataFrame"
   ]
  },
  {
   "cell_type": "code",
   "execution_count": 3,
   "metadata": {},
   "outputs": [],
   "source": [
    "la_airbnbs = pd.read_csv('../data/la_airbnb_retail_listings.csv', low_memory = False)"
   ]
  },
  {
   "cell_type": "markdown",
   "metadata": {},
   "source": [
    "## 3. Explornig the Dataset"
   ]
  },
  {
   "cell_type": "code",
   "execution_count": 4,
   "metadata": {},
   "outputs": [
    {
     "data": {
      "text/plain": [
       "(31253, 95)"
      ]
     },
     "execution_count": 4,
     "metadata": {},
     "output_type": "execute_result"
    }
   ],
   "source": [
    "la_airbnbs.shape"
   ]
  },
  {
   "cell_type": "code",
   "execution_count": 5,
   "metadata": {},
   "outputs": [
    {
     "name": "stdout",
     "output_type": "stream",
     "text": [
      "<class 'pandas.core.frame.DataFrame'>\n",
      "RangeIndex: 31253 entries, 0 to 31252\n",
      "Data columns (total 95 columns):\n",
      "id                                  31253 non-null int64\n",
      "listing_url                         31253 non-null object\n",
      "scrape_id                           31253 non-null int64\n",
      "last_scraped                        31253 non-null object\n",
      "name                                31246 non-null object\n",
      "summary                             30417 non-null object\n",
      "space                               21866 non-null object\n",
      "description                         31238 non-null object\n",
      "experiences_offered                 31253 non-null object\n",
      "neighborhood_overview               18575 non-null object\n",
      "notes                               13815 non-null object\n",
      "transit                             18164 non-null object\n",
      "access                              19074 non-null object\n",
      "interaction                         18262 non-null object\n",
      "house_rules                         22047 non-null object\n",
      "thumbnail_url                       26495 non-null object\n",
      "medium_url                          26495 non-null object\n",
      "picture_url                         31253 non-null object\n",
      "xl_picture_url                      26495 non-null object\n",
      "host_id                             31253 non-null int64\n",
      "host_url                            31253 non-null object\n",
      "host_name                           31239 non-null object\n",
      "host_since                          31239 non-null object\n",
      "host_location                       31081 non-null object\n",
      "host_about                          19624 non-null object\n",
      "host_response_time                  25692 non-null object\n",
      "host_response_rate                  25692 non-null object\n",
      "host_acceptance_rate                0 non-null float64\n",
      "host_is_superhost                   31239 non-null object\n",
      "host_thumbnail_url                  31239 non-null object\n",
      "host_picture_url                    31239 non-null object\n",
      "host_neighbourhood                  25541 non-null object\n",
      "host_listings_count                 31239 non-null float64\n",
      "host_total_listings_count           31239 non-null float64\n",
      "host_verifications                  31253 non-null object\n",
      "host_has_profile_pic                31239 non-null object\n",
      "host_identity_verified              31239 non-null object\n",
      "street                              31253 non-null object\n",
      "neighbourhood                       23654 non-null object\n",
      "neighbourhood_cleansed              31253 non-null object\n",
      "neighbourhood_group_cleansed        0 non-null float64\n",
      "city                                31242 non-null object\n",
      "state                               31252 non-null object\n",
      "zipcode                             30858 non-null object\n",
      "market                              31168 non-null object\n",
      "smart_location                      31253 non-null object\n",
      "country_code                        31253 non-null object\n",
      "country                             31253 non-null object\n",
      "latitude                            31253 non-null float64\n",
      "longitude                           31253 non-null float64\n",
      "is_location_exact                   31253 non-null object\n",
      "property_type                       31253 non-null object\n",
      "room_type                           31253 non-null object\n",
      "accommodates                        31253 non-null int64\n",
      "bathrooms                           31156 non-null float64\n",
      "bedrooms                            31218 non-null float64\n",
      "beds                                31194 non-null float64\n",
      "bed_type                            31253 non-null object\n",
      "amenities                           31253 non-null object\n",
      "square_feet                         384 non-null float64\n",
      "price                               31253 non-null object\n",
      "weekly_price                        7430 non-null object\n",
      "monthly_price                       6633 non-null object\n",
      "security_deposit                    16856 non-null object\n",
      "cleaning_fee                        24279 non-null object\n",
      "guests_included                     31253 non-null int64\n",
      "extra_people                        31253 non-null object\n",
      "minimum_nights                      31253 non-null int64\n",
      "maximum_nights                      31253 non-null int64\n",
      "calendar_updated                    31253 non-null object\n",
      "has_availability                    0 non-null float64\n",
      "availability_30                     31253 non-null int64\n",
      "availability_60                     31253 non-null int64\n",
      "availability_90                     31253 non-null int64\n",
      "availability_365                    31253 non-null int64\n",
      "calendar_last_scraped               31253 non-null object\n",
      "number_of_reviews                   31253 non-null int64\n",
      "first_review                        24030 non-null object\n",
      "last_review                         24044 non-null object\n",
      "review_scores_rating                23726 non-null float64\n",
      "review_scores_accuracy              23689 non-null float64\n",
      "review_scores_cleanliness           23688 non-null float64\n",
      "review_scores_checkin               23661 non-null float64\n",
      "review_scores_communication         23690 non-null float64\n",
      "review_scores_location              23660 non-null float64\n",
      "review_scores_value                 23648 non-null float64\n",
      "requires_license                    31253 non-null object\n",
      "license                             47 non-null object\n",
      "jurisdiction_names                  21955 non-null object\n",
      "instant_bookable                    31253 non-null object\n",
      "cancellation_policy                 31253 non-null object\n",
      "require_guest_profile_picture       31253 non-null object\n",
      "require_guest_phone_verification    31253 non-null object\n",
      "calculated_host_listings_count      31253 non-null int64\n",
      "reviews_per_month                   24030 non-null float64\n",
      "dtypes: float64(19), int64(13), object(63)\n",
      "memory usage: 22.7+ MB\n"
     ]
    }
   ],
   "source": [
    "la_airbnbs.info()"
   ]
  },
  {
   "cell_type": "code",
   "execution_count": 6,
   "metadata": {},
   "outputs": [
    {
     "data": {
      "text/plain": [
       "id                                    int64\n",
       "listing_url                          object\n",
       "scrape_id                             int64\n",
       "last_scraped                         object\n",
       "name                                 object\n",
       "summary                              object\n",
       "space                                object\n",
       "description                          object\n",
       "experiences_offered                  object\n",
       "neighborhood_overview                object\n",
       "notes                                object\n",
       "transit                              object\n",
       "access                               object\n",
       "interaction                          object\n",
       "house_rules                          object\n",
       "thumbnail_url                        object\n",
       "medium_url                           object\n",
       "picture_url                          object\n",
       "xl_picture_url                       object\n",
       "host_id                               int64\n",
       "host_url                             object\n",
       "host_name                            object\n",
       "host_since                           object\n",
       "host_location                        object\n",
       "host_about                           object\n",
       "host_response_time                   object\n",
       "host_response_rate                   object\n",
       "host_acceptance_rate                float64\n",
       "host_is_superhost                    object\n",
       "host_thumbnail_url                   object\n",
       "                                     ...   \n",
       "guests_included                       int64\n",
       "extra_people                         object\n",
       "minimum_nights                        int64\n",
       "maximum_nights                        int64\n",
       "calendar_updated                     object\n",
       "has_availability                    float64\n",
       "availability_30                       int64\n",
       "availability_60                       int64\n",
       "availability_90                       int64\n",
       "availability_365                      int64\n",
       "calendar_last_scraped                object\n",
       "number_of_reviews                     int64\n",
       "first_review                         object\n",
       "last_review                          object\n",
       "review_scores_rating                float64\n",
       "review_scores_accuracy              float64\n",
       "review_scores_cleanliness           float64\n",
       "review_scores_checkin               float64\n",
       "review_scores_communication         float64\n",
       "review_scores_location              float64\n",
       "review_scores_value                 float64\n",
       "requires_license                     object\n",
       "license                              object\n",
       "jurisdiction_names                   object\n",
       "instant_bookable                     object\n",
       "cancellation_policy                  object\n",
       "require_guest_profile_picture        object\n",
       "require_guest_phone_verification     object\n",
       "calculated_host_listings_count        int64\n",
       "reviews_per_month                   float64\n",
       "Length: 95, dtype: object"
      ]
     },
     "execution_count": 6,
     "metadata": {},
     "output_type": "execute_result"
    }
   ],
   "source": [
    "la_airbnbs.dtypes"
   ]
  },
  {
   "cell_type": "code",
   "execution_count": 7,
   "metadata": {},
   "outputs": [
    {
     "data": {
      "text/plain": [
       "Index(['id', 'listing_url', 'scrape_id', 'last_scraped', 'name', 'summary',\n",
       "       'space', 'description', 'experiences_offered', 'neighborhood_overview',\n",
       "       'notes', 'transit', 'access', 'interaction', 'house_rules',\n",
       "       'thumbnail_url', 'medium_url', 'picture_url', 'xl_picture_url',\n",
       "       'host_id', 'host_url', 'host_name', 'host_since', 'host_location',\n",
       "       'host_about', 'host_response_time', 'host_response_rate',\n",
       "       'host_acceptance_rate', 'host_is_superhost', 'host_thumbnail_url',\n",
       "       'host_picture_url', 'host_neighbourhood', 'host_listings_count',\n",
       "       'host_total_listings_count', 'host_verifications',\n",
       "       'host_has_profile_pic', 'host_identity_verified', 'street',\n",
       "       'neighbourhood', 'neighbourhood_cleansed',\n",
       "       'neighbourhood_group_cleansed', 'city', 'state', 'zipcode', 'market',\n",
       "       'smart_location', 'country_code', 'country', 'latitude', 'longitude',\n",
       "       'is_location_exact', 'property_type', 'room_type', 'accommodates',\n",
       "       'bathrooms', 'bedrooms', 'beds', 'bed_type', 'amenities', 'square_feet',\n",
       "       'price', 'weekly_price', 'monthly_price', 'security_deposit',\n",
       "       'cleaning_fee', 'guests_included', 'extra_people', 'minimum_nights',\n",
       "       'maximum_nights', 'calendar_updated', 'has_availability',\n",
       "       'availability_30', 'availability_60', 'availability_90',\n",
       "       'availability_365', 'calendar_last_scraped', 'number_of_reviews',\n",
       "       'first_review', 'last_review', 'review_scores_rating',\n",
       "       'review_scores_accuracy', 'review_scores_cleanliness',\n",
       "       'review_scores_checkin', 'review_scores_communication',\n",
       "       'review_scores_location', 'review_scores_value', 'requires_license',\n",
       "       'license', 'jurisdiction_names', 'instant_bookable',\n",
       "       'cancellation_policy', 'require_guest_profile_picture',\n",
       "       'require_guest_phone_verification', 'calculated_host_listings_count',\n",
       "       'reviews_per_month'],\n",
       "      dtype='object')"
      ]
     },
     "execution_count": 7,
     "metadata": {},
     "output_type": "execute_result"
    }
   ],
   "source": [
    "la_airbnbs.columns"
   ]
  },
  {
   "cell_type": "markdown",
   "metadata": {},
   "source": [
    "We have 95 columns with 31253 entries.  Many of the columns are repetitive or not helpful information that we can use to build our model.  We'll drop the non useful columns and create a new dataset from the remaining columns. "
   ]
  },
  {
   "cell_type": "code",
   "execution_count": 8,
   "metadata": {},
   "outputs": [],
   "source": [
    "cleaned_la_airbnbs = la_airbnbs.drop(['host_has_profile_pic', 'thumbnail_url', 'host_url',\n",
    "                                      'medium_url', 'picture_url', 'xl_picture_url', 'host_picture_url',\n",
    "                                     'listing_url', 'weekly_price', 'monthly_price', 'host_thumbnail_url',\n",
    "                                     'scrape_id', 'latitude', 'longitude', 'host_response_rate', 'requires_license',\n",
    "                                     'require_guest_profile_picture', 'jurisdiction_names', 'last_scraped', 'summary', \n",
    "                                     'description', 'name', 'neighbourhood', 'state', 'country',\n",
    "                                      'market', 'license', 'first_review', 'last_review', 'calendar_last_scraped',\n",
    "                                     'neighbourhood_group_cleansed', 'host_about', 'house_rules', 'country_code',\n",
    "                                     'street', 'transit', 'access', 'space', 'notes', 'interaction',\n",
    "                                     'smart_location', 'calendar_updated', 'experiences_offered',\n",
    "                                     'neighborhood_overview', 'host_acceptance_rate', 'host_location',\n",
    "                                     'host_neighbourhood', 'host_response_time', 'host_name'], axis = 'columns')"
   ]
  },
  {
   "cell_type": "code",
   "execution_count": 9,
   "metadata": {},
   "outputs": [
    {
     "data": {
      "text/plain": [
       "(31253, 46)"
      ]
     },
     "execution_count": 9,
     "metadata": {},
     "output_type": "execute_result"
    }
   ],
   "source": [
    "cleaned_la_airbnbs.shape"
   ]
  },
  {
   "cell_type": "code",
   "execution_count": 10,
   "metadata": {},
   "outputs": [
    {
     "data": {
      "text/plain": [
       "Index(['id', 'host_id', 'host_since', 'host_is_superhost',\n",
       "       'host_listings_count', 'host_total_listings_count',\n",
       "       'host_verifications', 'host_identity_verified',\n",
       "       'neighbourhood_cleansed', 'city', 'zipcode', 'is_location_exact',\n",
       "       'property_type', 'room_type', 'accommodates', 'bathrooms', 'bedrooms',\n",
       "       'beds', 'bed_type', 'amenities', 'square_feet', 'price',\n",
       "       'security_deposit', 'cleaning_fee', 'guests_included', 'extra_people',\n",
       "       'minimum_nights', 'maximum_nights', 'has_availability',\n",
       "       'availability_30', 'availability_60', 'availability_90',\n",
       "       'availability_365', 'number_of_reviews', 'review_scores_rating',\n",
       "       'review_scores_accuracy', 'review_scores_cleanliness',\n",
       "       'review_scores_checkin', 'review_scores_communication',\n",
       "       'review_scores_location', 'review_scores_value', 'instant_bookable',\n",
       "       'cancellation_policy', 'require_guest_phone_verification',\n",
       "       'calculated_host_listings_count', 'reviews_per_month'],\n",
       "      dtype='object')"
      ]
     },
     "execution_count": 10,
     "metadata": {},
     "output_type": "execute_result"
    }
   ],
   "source": [
    "cleaned_la_airbnbs.columns"
   ]
  },
  {
   "cell_type": "code",
   "execution_count": 11,
   "metadata": {},
   "outputs": [
    {
     "data": {
      "text/plain": [
       "id                                      0\n",
       "host_id                                 0\n",
       "host_since                             14\n",
       "host_is_superhost                      14\n",
       "host_listings_count                    14\n",
       "host_total_listings_count              14\n",
       "host_verifications                      0\n",
       "host_identity_verified                 14\n",
       "neighbourhood_cleansed                  0\n",
       "city                                   11\n",
       "zipcode                               395\n",
       "is_location_exact                       0\n",
       "property_type                           0\n",
       "room_type                               0\n",
       "accommodates                            0\n",
       "bathrooms                              97\n",
       "bedrooms                               35\n",
       "beds                                   59\n",
       "bed_type                                0\n",
       "amenities                               0\n",
       "square_feet                         30869\n",
       "price                                   0\n",
       "security_deposit                    14397\n",
       "cleaning_fee                         6974\n",
       "guests_included                         0\n",
       "extra_people                            0\n",
       "minimum_nights                          0\n",
       "maximum_nights                          0\n",
       "has_availability                    31253\n",
       "availability_30                         0\n",
       "availability_60                         0\n",
       "availability_90                         0\n",
       "availability_365                        0\n",
       "number_of_reviews                       0\n",
       "review_scores_rating                 7527\n",
       "review_scores_accuracy               7564\n",
       "review_scores_cleanliness            7565\n",
       "review_scores_checkin                7592\n",
       "review_scores_communication          7563\n",
       "review_scores_location               7593\n",
       "review_scores_value                  7605\n",
       "instant_bookable                        0\n",
       "cancellation_policy                     0\n",
       "require_guest_phone_verification        0\n",
       "calculated_host_listings_count          0\n",
       "reviews_per_month                    7223\n",
       "dtype: int64"
      ]
     },
     "execution_count": 11,
     "metadata": {},
     "output_type": "execute_result"
    }
   ],
   "source": [
    "cleaned_la_airbnbs.isna().sum()"
   ]
  },
  {
   "cell_type": "markdown",
   "metadata": {},
   "source": [
    "Convert string 'price' into numerical value float type"
   ]
  },
  {
   "cell_type": "code",
   "execution_count": 12,
   "metadata": {},
   "outputs": [],
   "source": [
    "# Clean 'price' and convert to numeric value.\n",
    "cleaned_la_airbnbs.loc[:, 'price'] = cleaned_la_airbnbs.loc[:, 'price'].replace('[\\$,]', '', regex=True).astype(float)"
   ]
  },
  {
   "cell_type": "code",
   "execution_count": 13,
   "metadata": {},
   "outputs": [
    {
     "data": {
      "text/html": [
       "<div>\n",
       "<style scoped>\n",
       "    .dataframe tbody tr th:only-of-type {\n",
       "        vertical-align: middle;\n",
       "    }\n",
       "\n",
       "    .dataframe tbody tr th {\n",
       "        vertical-align: top;\n",
       "    }\n",
       "\n",
       "    .dataframe thead th {\n",
       "        text-align: right;\n",
       "    }\n",
       "</style>\n",
       "<table border=\"1\" class=\"dataframe\">\n",
       "  <thead>\n",
       "    <tr style=\"text-align: right;\">\n",
       "      <th></th>\n",
       "      <th>neighbourhood_cleansed</th>\n",
       "      <th>city</th>\n",
       "      <th>zipcode</th>\n",
       "    </tr>\n",
       "  </thead>\n",
       "  <tbody>\n",
       "    <tr>\n",
       "      <th>2969</th>\n",
       "      <td>Brentwood</td>\n",
       "      <td>Los Angeles</td>\n",
       "      <td>90049</td>\n",
       "    </tr>\n",
       "    <tr>\n",
       "      <th>27197</th>\n",
       "      <td>Venice</td>\n",
       "      <td>Venice</td>\n",
       "      <td>90291</td>\n",
       "    </tr>\n",
       "    <tr>\n",
       "      <th>398</th>\n",
       "      <td>Harvard Heights</td>\n",
       "      <td>Los Angeles</td>\n",
       "      <td>90006</td>\n",
       "    </tr>\n",
       "    <tr>\n",
       "      <th>21034</th>\n",
       "      <td>Sawtelle</td>\n",
       "      <td>Los Angeles</td>\n",
       "      <td>90025</td>\n",
       "    </tr>\n",
       "    <tr>\n",
       "      <th>15685</th>\n",
       "      <td>Long Beach</td>\n",
       "      <td>Long Beach</td>\n",
       "      <td>90810</td>\n",
       "    </tr>\n",
       "    <tr>\n",
       "      <th>6797</th>\n",
       "      <td>Hollywood</td>\n",
       "      <td>Los Angeles</td>\n",
       "      <td>90028</td>\n",
       "    </tr>\n",
       "    <tr>\n",
       "      <th>26920</th>\n",
       "      <td>Venice</td>\n",
       "      <td>Los Angeles</td>\n",
       "      <td>90291</td>\n",
       "    </tr>\n",
       "    <tr>\n",
       "      <th>21383</th>\n",
       "      <td>Rowland Heights</td>\n",
       "      <td>Rowland Heights</td>\n",
       "      <td>91748</td>\n",
       "    </tr>\n",
       "    <tr>\n",
       "      <th>24052</th>\n",
       "      <td>Silver Lake</td>\n",
       "      <td>Los Angeles</td>\n",
       "      <td>90026</td>\n",
       "    </tr>\n",
       "    <tr>\n",
       "      <th>30489</th>\n",
       "      <td>Westwood</td>\n",
       "      <td>Los Angeles</td>\n",
       "      <td>90024</td>\n",
       "    </tr>\n",
       "    <tr>\n",
       "      <th>5609</th>\n",
       "      <td>Hollywood</td>\n",
       "      <td>Hollywood</td>\n",
       "      <td>90038</td>\n",
       "    </tr>\n",
       "    <tr>\n",
       "      <th>29681</th>\n",
       "      <td>West Hollywood</td>\n",
       "      <td>West Hollywood</td>\n",
       "      <td>90046</td>\n",
       "    </tr>\n",
       "    <tr>\n",
       "      <th>3106</th>\n",
       "      <td>Brentwood</td>\n",
       "      <td>Los Angeles</td>\n",
       "      <td>90049</td>\n",
       "    </tr>\n",
       "    <tr>\n",
       "      <th>13044</th>\n",
       "      <td>Koreatown</td>\n",
       "      <td>Los Angeles</td>\n",
       "      <td>90006</td>\n",
       "    </tr>\n",
       "    <tr>\n",
       "      <th>22820</th>\n",
       "      <td>Santa Monica</td>\n",
       "      <td>Santa Monica</td>\n",
       "      <td>90405</td>\n",
       "    </tr>\n",
       "    <tr>\n",
       "      <th>4014</th>\n",
       "      <td>Culver City</td>\n",
       "      <td>Culver City</td>\n",
       "      <td>90232</td>\n",
       "    </tr>\n",
       "    <tr>\n",
       "      <th>4293</th>\n",
       "      <td>Downtown</td>\n",
       "      <td>Los Angeles</td>\n",
       "      <td>90013</td>\n",
       "    </tr>\n",
       "    <tr>\n",
       "      <th>15785</th>\n",
       "      <td>Long Beach</td>\n",
       "      <td>Long Beach</td>\n",
       "      <td>90807</td>\n",
       "    </tr>\n",
       "    <tr>\n",
       "      <th>6196</th>\n",
       "      <td>Hollywood</td>\n",
       "      <td>Los Angeles</td>\n",
       "      <td>90028</td>\n",
       "    </tr>\n",
       "    <tr>\n",
       "      <th>24497</th>\n",
       "      <td>South Pasadena</td>\n",
       "      <td>South Pasadena</td>\n",
       "      <td>91030</td>\n",
       "    </tr>\n",
       "    <tr>\n",
       "      <th>13980</th>\n",
       "      <td>Los Feliz</td>\n",
       "      <td>Los Angeles</td>\n",
       "      <td>90027</td>\n",
       "    </tr>\n",
       "    <tr>\n",
       "      <th>29891</th>\n",
       "      <td>Westlake</td>\n",
       "      <td>Los Angeles</td>\n",
       "      <td>90057</td>\n",
       "    </tr>\n",
       "    <tr>\n",
       "      <th>20137</th>\n",
       "      <td>Pasadena</td>\n",
       "      <td>Pasadena</td>\n",
       "      <td>91104</td>\n",
       "    </tr>\n",
       "    <tr>\n",
       "      <th>7394</th>\n",
       "      <td>Del Rey</td>\n",
       "      <td>Los Angeles</td>\n",
       "      <td>90066</td>\n",
       "    </tr>\n",
       "    <tr>\n",
       "      <th>26360</th>\n",
       "      <td>Venice</td>\n",
       "      <td>Los Angeles</td>\n",
       "      <td>90291</td>\n",
       "    </tr>\n",
       "    <tr>\n",
       "      <th>16200</th>\n",
       "      <td>Long Beach</td>\n",
       "      <td>Long Beach</td>\n",
       "      <td>90804</td>\n",
       "    </tr>\n",
       "    <tr>\n",
       "      <th>16342</th>\n",
       "      <td>Malibu</td>\n",
       "      <td>Malibu</td>\n",
       "      <td>NaN</td>\n",
       "    </tr>\n",
       "    <tr>\n",
       "      <th>7433</th>\n",
       "      <td>East Los Angeles</td>\n",
       "      <td>Los Angeles</td>\n",
       "      <td>90063</td>\n",
       "    </tr>\n",
       "    <tr>\n",
       "      <th>6313</th>\n",
       "      <td>Hollywood</td>\n",
       "      <td>Los Angeles</td>\n",
       "      <td>90028</td>\n",
       "    </tr>\n",
       "    <tr>\n",
       "      <th>4489</th>\n",
       "      <td>Downtown</td>\n",
       "      <td>Los Angeles</td>\n",
       "      <td>90013</td>\n",
       "    </tr>\n",
       "    <tr>\n",
       "      <th>22037</th>\n",
       "      <td>Van Nuys</td>\n",
       "      <td>Los Angeles</td>\n",
       "      <td>91405</td>\n",
       "    </tr>\n",
       "    <tr>\n",
       "      <th>30034</th>\n",
       "      <td>Westlake</td>\n",
       "      <td>Los Angeles</td>\n",
       "      <td>90017</td>\n",
       "    </tr>\n",
       "    <tr>\n",
       "      <th>22317</th>\n",
       "      <td>Vermont Square</td>\n",
       "      <td>Los Angeles</td>\n",
       "      <td>90037</td>\n",
       "    </tr>\n",
       "    <tr>\n",
       "      <th>19749</th>\n",
       "      <td>Pasadena</td>\n",
       "      <td>Pasadena</td>\n",
       "      <td>91103</td>\n",
       "    </tr>\n",
       "    <tr>\n",
       "      <th>3978</th>\n",
       "      <td>Culver City</td>\n",
       "      <td>Culver City</td>\n",
       "      <td>90232</td>\n",
       "    </tr>\n",
       "    <tr>\n",
       "      <th>27341</th>\n",
       "      <td>Venice</td>\n",
       "      <td>Venice</td>\n",
       "      <td>90291</td>\n",
       "    </tr>\n",
       "    <tr>\n",
       "      <th>14185</th>\n",
       "      <td>Los Feliz</td>\n",
       "      <td>Los Angeles</td>\n",
       "      <td>90027</td>\n",
       "    </tr>\n",
       "    <tr>\n",
       "      <th>8716</th>\n",
       "      <td>Echo Park</td>\n",
       "      <td>Los Angeles</td>\n",
       "      <td>90026</td>\n",
       "    </tr>\n",
       "    <tr>\n",
       "      <th>17218</th>\n",
       "      <td>Mid-City</td>\n",
       "      <td>Los Angeles</td>\n",
       "      <td>90034</td>\n",
       "    </tr>\n",
       "    <tr>\n",
       "      <th>13666</th>\n",
       "      <td>Larchmont</td>\n",
       "      <td>Los Angeles</td>\n",
       "      <td>90004</td>\n",
       "    </tr>\n",
       "  </tbody>\n",
       "</table>\n",
       "</div>"
      ],
      "text/plain": [
       "      neighbourhood_cleansed             city zipcode\n",
       "2969               Brentwood      Los Angeles   90049\n",
       "27197                 Venice           Venice   90291\n",
       "398          Harvard Heights      Los Angeles   90006\n",
       "21034               Sawtelle      Los Angeles   90025\n",
       "15685             Long Beach       Long Beach   90810\n",
       "6797               Hollywood      Los Angeles   90028\n",
       "26920                 Venice      Los Angeles   90291\n",
       "21383        Rowland Heights  Rowland Heights   91748\n",
       "24052            Silver Lake      Los Angeles   90026\n",
       "30489               Westwood      Los Angeles   90024\n",
       "5609               Hollywood       Hollywood    90038\n",
       "29681         West Hollywood   West Hollywood   90046\n",
       "3106               Brentwood      Los Angeles   90049\n",
       "13044              Koreatown      Los Angeles   90006\n",
       "22820           Santa Monica     Santa Monica   90405\n",
       "4014             Culver City      Culver City   90232\n",
       "4293                Downtown      Los Angeles   90013\n",
       "15785             Long Beach       Long Beach   90807\n",
       "6196               Hollywood      Los Angeles   90028\n",
       "24497         South Pasadena   South Pasadena   91030\n",
       "13980              Los Feliz      Los Angeles   90027\n",
       "29891               Westlake      Los Angeles   90057\n",
       "20137               Pasadena         Pasadena   91104\n",
       "7394                 Del Rey      Los Angeles   90066\n",
       "26360                 Venice      Los Angeles   90291\n",
       "16200             Long Beach       Long Beach   90804\n",
       "16342                 Malibu           Malibu     NaN\n",
       "7433        East Los Angeles      Los Angeles   90063\n",
       "6313               Hollywood      Los Angeles   90028\n",
       "4489                Downtown      Los Angeles   90013\n",
       "22037               Van Nuys      Los Angeles   91405\n",
       "30034               Westlake      Los Angeles   90017\n",
       "22317         Vermont Square      Los Angeles   90037\n",
       "19749               Pasadena         Pasadena   91103\n",
       "3978             Culver City      Culver City   90232\n",
       "27341                 Venice           Venice   90291\n",
       "14185              Los Feliz      Los Angeles   90027\n",
       "8716               Echo Park      Los Angeles   90026\n",
       "17218               Mid-City      Los Angeles   90034\n",
       "13666              Larchmont      Los Angeles   90004"
      ]
     },
     "execution_count": 13,
     "metadata": {},
     "output_type": "execute_result"
    }
   ],
   "source": [
    "cleaned_la_airbnbs.loc[:, ['neighbourhood_cleansed', 'city', 'zipcode']].sample(40)"
   ]
  },
  {
   "cell_type": "code",
   "execution_count": 14,
   "metadata": {},
   "outputs": [
    {
     "data": {
      "text/plain": [
       "90291         1733\n",
       "90046         1367\n",
       "90028         1094\n",
       "90026          980\n",
       "90036          839\n",
       "90068          718\n",
       "90066          690\n",
       "90027          571\n",
       "90038          552\n",
       "90292          530\n",
       "90025          526\n",
       "90069          518\n",
       "90019          512\n",
       "90048          510\n",
       "90024          440\n",
       "90034          432\n",
       "90265          426\n",
       "90004          387\n",
       "90029          372\n",
       "91748          362\n",
       "90039          346\n",
       "90006          344\n",
       "90012          334\n",
       "90035          332\n",
       "91601          327\n",
       "90802          312\n",
       "90042          307\n",
       "90405          299\n",
       "90017          291\n",
       "91604          263\n",
       "              ... \n",
       "91308            1\n",
       "90005-3747       1\n",
       "210              1\n",
       "92821            1\n",
       "92397            1\n",
       "92614            1\n",
       "90036-2514       1\n",
       "93105            1\n",
       "90035-4475       1\n",
       "Near 91304       1\n",
       "10023            1\n",
       "93591            1\n",
       "92629            1\n",
       "91604-3646       1\n",
       "90929            1\n",
       "90630            1\n",
       "91764            1\n",
       "91523            1\n",
       "999041           1\n",
       "9004             1\n",
       "91606-1412       1\n",
       "91377            1\n",
       "90621            1\n",
       "90039-2715       1\n",
       "92880            1\n",
       "91708            1\n",
       "90034-2203       1\n",
       "90403-2638       1\n",
       "90840            1\n",
       "90625            1\n",
       "Name: zipcode, Length: 310, dtype: int64"
      ]
     },
     "execution_count": 14,
     "metadata": {},
     "output_type": "execute_result"
    }
   ],
   "source": [
    "cleaned_la_airbnbs.loc[:, 'zipcode'].value_counts()"
   ]
  },
  {
   "cell_type": "markdown",
   "metadata": {},
   "source": [
    "After looking at our data we notice that 'neighbourhood_cleansed', 'city', 'zipcode' are all very similar information.  We want to use zipcodes as they are in a numerical format already, but some of that data is missing, entered incorrectly or entered in a different format.  We also notice that 'neighbourhood_cleansed' has no missing fields and is a more specific location that our 'city' column.  "
   ]
  },
  {
   "cell_type": "markdown",
   "metadata": {},
   "source": [
    "We will now import another dataset that contains a zipcode lookup table for all zipcodes in the United States.  We'll hopefully be able to use 'neighbourhood_cleansed' to cross reference the new zipcode dataset to located our missing or incorrectly entered zipcodes."
   ]
  },
  {
   "cell_type": "code",
   "execution_count": 15,
   "metadata": {},
   "outputs": [],
   "source": [
    "zipcodes = pd.read_csv('../data/zips/uszips.csv', low_memory = False)"
   ]
  },
  {
   "cell_type": "code",
   "execution_count": 16,
   "metadata": {},
   "outputs": [
    {
     "data": {
      "text/plain": [
       "(33099, 16)"
      ]
     },
     "execution_count": 16,
     "metadata": {},
     "output_type": "execute_result"
    }
   ],
   "source": [
    "zipcodes.shape"
   ]
  },
  {
   "cell_type": "code",
   "execution_count": 17,
   "metadata": {},
   "outputs": [
    {
     "data": {
      "text/html": [
       "<div>\n",
       "<style scoped>\n",
       "    .dataframe tbody tr th:only-of-type {\n",
       "        vertical-align: middle;\n",
       "    }\n",
       "\n",
       "    .dataframe tbody tr th {\n",
       "        vertical-align: top;\n",
       "    }\n",
       "\n",
       "    .dataframe thead th {\n",
       "        text-align: right;\n",
       "    }\n",
       "</style>\n",
       "<table border=\"1\" class=\"dataframe\">\n",
       "  <thead>\n",
       "    <tr style=\"text-align: right;\">\n",
       "      <th></th>\n",
       "      <th>zip</th>\n",
       "      <th>lat</th>\n",
       "      <th>lng</th>\n",
       "      <th>city</th>\n",
       "      <th>state_id</th>\n",
       "      <th>state_name</th>\n",
       "      <th>zcta</th>\n",
       "      <th>parent_zcta</th>\n",
       "      <th>population</th>\n",
       "      <th>density</th>\n",
       "      <th>county_fips</th>\n",
       "      <th>county_name</th>\n",
       "      <th>all_county_weights</th>\n",
       "      <th>imprecise</th>\n",
       "      <th>military</th>\n",
       "      <th>timezone</th>\n",
       "    </tr>\n",
       "  </thead>\n",
       "  <tbody>\n",
       "    <tr>\n",
       "      <th>26412</th>\n",
       "      <td>76429</td>\n",
       "      <td>32.74099</td>\n",
       "      <td>-98.67419</td>\n",
       "      <td>Caddo</td>\n",
       "      <td>TX</td>\n",
       "      <td>Texas</td>\n",
       "      <td>True</td>\n",
       "      <td>NaN</td>\n",
       "      <td>258</td>\n",
       "      <td>0.9</td>\n",
       "      <td>48429</td>\n",
       "      <td>Stephens</td>\n",
       "      <td>{'48363':18.22,'48429':81.78}</td>\n",
       "      <td>False</td>\n",
       "      <td>False</td>\n",
       "      <td>America/Chicago</td>\n",
       "    </tr>\n",
       "    <tr>\n",
       "      <th>6968</th>\n",
       "      <td>22835</td>\n",
       "      <td>38.67240</td>\n",
       "      <td>-78.45253</td>\n",
       "      <td>Luray</td>\n",
       "      <td>VA</td>\n",
       "      <td>Virginia</td>\n",
       "      <td>True</td>\n",
       "      <td>NaN</td>\n",
       "      <td>11634</td>\n",
       "      <td>29.8</td>\n",
       "      <td>51139</td>\n",
       "      <td>Page</td>\n",
       "      <td>{'51113':0,'51139':100}</td>\n",
       "      <td>False</td>\n",
       "      <td>False</td>\n",
       "      <td>America/New_York</td>\n",
       "    </tr>\n",
       "    <tr>\n",
       "      <th>17832</th>\n",
       "      <td>53546</td>\n",
       "      <td>42.65266</td>\n",
       "      <td>-88.94916</td>\n",
       "      <td>Janesville</td>\n",
       "      <td>WI</td>\n",
       "      <td>Wisconsin</td>\n",
       "      <td>True</td>\n",
       "      <td>NaN</td>\n",
       "      <td>30648</td>\n",
       "      <td>143.2</td>\n",
       "      <td>55105</td>\n",
       "      <td>Rock</td>\n",
       "      <td>{'55105':100}</td>\n",
       "      <td>False</td>\n",
       "      <td>False</td>\n",
       "      <td>America/Chicago</td>\n",
       "    </tr>\n",
       "    <tr>\n",
       "      <th>9452</th>\n",
       "      <td>29667</td>\n",
       "      <td>34.76477</td>\n",
       "      <td>-82.75670</td>\n",
       "      <td>Norris</td>\n",
       "      <td>SC</td>\n",
       "      <td>South Carolina</td>\n",
       "      <td>True</td>\n",
       "      <td>NaN</td>\n",
       "      <td>269</td>\n",
       "      <td>198.2</td>\n",
       "      <td>45077</td>\n",
       "      <td>Pickens</td>\n",
       "      <td>{'45077':100}</td>\n",
       "      <td>False</td>\n",
       "      <td>False</td>\n",
       "      <td>America/New_York</td>\n",
       "    </tr>\n",
       "    <tr>\n",
       "      <th>15681</th>\n",
       "      <td>47951</td>\n",
       "      <td>40.78947</td>\n",
       "      <td>-87.44134</td>\n",
       "      <td>Kentland</td>\n",
       "      <td>IN</td>\n",
       "      <td>Indiana</td>\n",
       "      <td>True</td>\n",
       "      <td>NaN</td>\n",
       "      <td>2252</td>\n",
       "      <td>13.5</td>\n",
       "      <td>18111</td>\n",
       "      <td>Newton</td>\n",
       "      <td>{'18111':100}</td>\n",
       "      <td>False</td>\n",
       "      <td>False</td>\n",
       "      <td>America/Chicago</td>\n",
       "    </tr>\n",
       "  </tbody>\n",
       "</table>\n",
       "</div>"
      ],
      "text/plain": [
       "         zip       lat       lng        city state_id      state_name  zcta  \\\n",
       "26412  76429  32.74099 -98.67419       Caddo       TX           Texas  True   \n",
       "6968   22835  38.67240 -78.45253       Luray       VA        Virginia  True   \n",
       "17832  53546  42.65266 -88.94916  Janesville       WI       Wisconsin  True   \n",
       "9452   29667  34.76477 -82.75670      Norris       SC  South Carolina  True   \n",
       "15681  47951  40.78947 -87.44134    Kentland       IN         Indiana  True   \n",
       "\n",
       "       parent_zcta  population  density  county_fips county_name  \\\n",
       "26412          NaN         258      0.9        48429    Stephens   \n",
       "6968           NaN       11634     29.8        51139        Page   \n",
       "17832          NaN       30648    143.2        55105        Rock   \n",
       "9452           NaN         269    198.2        45077     Pickens   \n",
       "15681          NaN        2252     13.5        18111      Newton   \n",
       "\n",
       "                  all_county_weights  imprecise  military          timezone  \n",
       "26412  {'48363':18.22,'48429':81.78}      False     False   America/Chicago  \n",
       "6968         {'51113':0,'51139':100}      False     False  America/New_York  \n",
       "17832                  {'55105':100}      False     False   America/Chicago  \n",
       "9452                   {'45077':100}      False     False  America/New_York  \n",
       "15681                  {'18111':100}      False     False   America/Chicago  "
      ]
     },
     "execution_count": 17,
     "metadata": {},
     "output_type": "execute_result"
    }
   ],
   "source": [
    "zipcodes.sample(5)"
   ]
  },
  {
   "cell_type": "code",
   "execution_count": 18,
   "metadata": {},
   "outputs": [
    {
     "data": {
      "text/html": [
       "<div>\n",
       "<style scoped>\n",
       "    .dataframe tbody tr th:only-of-type {\n",
       "        vertical-align: middle;\n",
       "    }\n",
       "\n",
       "    .dataframe tbody tr th {\n",
       "        vertical-align: top;\n",
       "    }\n",
       "\n",
       "    .dataframe thead th {\n",
       "        text-align: right;\n",
       "    }\n",
       "</style>\n",
       "<table border=\"1\" class=\"dataframe\">\n",
       "  <thead>\n",
       "    <tr style=\"text-align: right;\">\n",
       "      <th></th>\n",
       "      <th>zip</th>\n",
       "      <th>lat</th>\n",
       "      <th>lng</th>\n",
       "      <th>city</th>\n",
       "      <th>state_id</th>\n",
       "      <th>state_name</th>\n",
       "      <th>zcta</th>\n",
       "      <th>parent_zcta</th>\n",
       "      <th>population</th>\n",
       "      <th>density</th>\n",
       "      <th>county_fips</th>\n",
       "      <th>county_name</th>\n",
       "      <th>all_county_weights</th>\n",
       "      <th>imprecise</th>\n",
       "      <th>military</th>\n",
       "      <th>timezone</th>\n",
       "    </tr>\n",
       "  </thead>\n",
       "  <tbody>\n",
       "  </tbody>\n",
       "</table>\n",
       "</div>"
      ],
      "text/plain": [
       "Empty DataFrame\n",
       "Columns: [zip, lat, lng, city, state_id, state_name, zcta, parent_zcta, population, density, county_fips, county_name, all_county_weights, imprecise, military, timezone]\n",
       "Index: []"
      ]
     },
     "execution_count": 18,
     "metadata": {},
     "output_type": "execute_result"
    }
   ],
   "source": [
    "zipcodes[(zipcodes.loc[:, 'city'] == 'Hollywood') & (zipcodes.loc[:, 'state_id'] == 'CA')]"
   ]
  },
  {
   "cell_type": "code",
   "execution_count": 19,
   "metadata": {},
   "outputs": [
    {
     "data": {
      "text/html": [
       "<div>\n",
       "<style scoped>\n",
       "    .dataframe tbody tr th:only-of-type {\n",
       "        vertical-align: middle;\n",
       "    }\n",
       "\n",
       "    .dataframe tbody tr th {\n",
       "        vertical-align: top;\n",
       "    }\n",
       "\n",
       "    .dataframe thead th {\n",
       "        text-align: right;\n",
       "    }\n",
       "</style>\n",
       "<table border=\"1\" class=\"dataframe\">\n",
       "  <thead>\n",
       "    <tr style=\"text-align: right;\">\n",
       "      <th></th>\n",
       "      <th>zip</th>\n",
       "      <th>lat</th>\n",
       "      <th>lng</th>\n",
       "      <th>city</th>\n",
       "      <th>state_id</th>\n",
       "      <th>state_name</th>\n",
       "      <th>zcta</th>\n",
       "      <th>parent_zcta</th>\n",
       "      <th>population</th>\n",
       "      <th>density</th>\n",
       "      <th>county_fips</th>\n",
       "      <th>county_name</th>\n",
       "      <th>all_county_weights</th>\n",
       "      <th>imprecise</th>\n",
       "      <th>military</th>\n",
       "      <th>timezone</th>\n",
       "    </tr>\n",
       "  </thead>\n",
       "  <tbody>\n",
       "    <tr>\n",
       "      <th>30019</th>\n",
       "      <td>90028</td>\n",
       "      <td>34.09989</td>\n",
       "      <td>-118.32692</td>\n",
       "      <td>Los Angeles</td>\n",
       "      <td>CA</td>\n",
       "      <td>California</td>\n",
       "      <td>True</td>\n",
       "      <td>NaN</td>\n",
       "      <td>28714</td>\n",
       "      <td>7273.3</td>\n",
       "      <td>6037</td>\n",
       "      <td>Los Angeles</td>\n",
       "      <td>{'06037':100}</td>\n",
       "      <td>False</td>\n",
       "      <td>False</td>\n",
       "      <td>America/Los_Angeles</td>\n",
       "    </tr>\n",
       "  </tbody>\n",
       "</table>\n",
       "</div>"
      ],
      "text/plain": [
       "         zip       lat        lng         city state_id  state_name  zcta  \\\n",
       "30019  90028  34.09989 -118.32692  Los Angeles       CA  California  True   \n",
       "\n",
       "       parent_zcta  population  density  county_fips  county_name  \\\n",
       "30019          NaN       28714   7273.3         6037  Los Angeles   \n",
       "\n",
       "      all_county_weights  imprecise  military             timezone  \n",
       "30019      {'06037':100}      False     False  America/Los_Angeles  "
      ]
     },
     "execution_count": 19,
     "metadata": {},
     "output_type": "execute_result"
    }
   ],
   "source": [
    "zipcodes[(zipcodes.loc[:, 'zip'] == 90028)]"
   ]
  },
  {
   "cell_type": "code",
   "execution_count": 20,
   "metadata": {},
   "outputs": [
    {
     "data": {
      "text/html": [
       "<div>\n",
       "<style scoped>\n",
       "    .dataframe tbody tr th:only-of-type {\n",
       "        vertical-align: middle;\n",
       "    }\n",
       "\n",
       "    .dataframe tbody tr th {\n",
       "        vertical-align: top;\n",
       "    }\n",
       "\n",
       "    .dataframe thead th {\n",
       "        text-align: right;\n",
       "    }\n",
       "</style>\n",
       "<table border=\"1\" class=\"dataframe\">\n",
       "  <thead>\n",
       "    <tr style=\"text-align: right;\">\n",
       "      <th></th>\n",
       "      <th>zip</th>\n",
       "      <th>lat</th>\n",
       "      <th>lng</th>\n",
       "      <th>city</th>\n",
       "      <th>state_id</th>\n",
       "      <th>state_name</th>\n",
       "      <th>zcta</th>\n",
       "      <th>parent_zcta</th>\n",
       "      <th>population</th>\n",
       "      <th>density</th>\n",
       "      <th>county_fips</th>\n",
       "      <th>county_name</th>\n",
       "      <th>all_county_weights</th>\n",
       "      <th>imprecise</th>\n",
       "      <th>military</th>\n",
       "      <th>timezone</th>\n",
       "    </tr>\n",
       "  </thead>\n",
       "  <tbody>\n",
       "    <tr>\n",
       "      <th>30234</th>\n",
       "      <td>91403</td>\n",
       "      <td>34.14659</td>\n",
       "      <td>-118.46286</td>\n",
       "      <td>Sherman Oaks</td>\n",
       "      <td>CA</td>\n",
       "      <td>California</td>\n",
       "      <td>True</td>\n",
       "      <td>NaN</td>\n",
       "      <td>23484</td>\n",
       "      <td>2497.2</td>\n",
       "      <td>6037</td>\n",
       "      <td>Los Angeles</td>\n",
       "      <td>{'06037':100}</td>\n",
       "      <td>False</td>\n",
       "      <td>False</td>\n",
       "      <td>America/Los_Angeles</td>\n",
       "    </tr>\n",
       "    <tr>\n",
       "      <th>30238</th>\n",
       "      <td>91423</td>\n",
       "      <td>34.14852</td>\n",
       "      <td>-118.43272</td>\n",
       "      <td>Sherman Oaks</td>\n",
       "      <td>CA</td>\n",
       "      <td>California</td>\n",
       "      <td>True</td>\n",
       "      <td>NaN</td>\n",
       "      <td>30991</td>\n",
       "      <td>2742.5</td>\n",
       "      <td>6037</td>\n",
       "      <td>Los Angeles</td>\n",
       "      <td>{'06037':100}</td>\n",
       "      <td>False</td>\n",
       "      <td>False</td>\n",
       "      <td>America/Los_Angeles</td>\n",
       "    </tr>\n",
       "  </tbody>\n",
       "</table>\n",
       "</div>"
      ],
      "text/plain": [
       "         zip       lat        lng          city state_id  state_name  zcta  \\\n",
       "30234  91403  34.14659 -118.46286  Sherman Oaks       CA  California  True   \n",
       "30238  91423  34.14852 -118.43272  Sherman Oaks       CA  California  True   \n",
       "\n",
       "       parent_zcta  population  density  county_fips  county_name  \\\n",
       "30234          NaN       23484   2497.2         6037  Los Angeles   \n",
       "30238          NaN       30991   2742.5         6037  Los Angeles   \n",
       "\n",
       "      all_county_weights  imprecise  military             timezone  \n",
       "30234      {'06037':100}      False     False  America/Los_Angeles  \n",
       "30238      {'06037':100}      False     False  America/Los_Angeles  "
      ]
     },
     "execution_count": 20,
     "metadata": {},
     "output_type": "execute_result"
    }
   ],
   "source": [
    "zipcodes[zipcodes.loc[:, 'city'] == 'Sherman Oaks']"
   ]
  },
  {
   "cell_type": "markdown",
   "metadata": {},
   "source": [
    "We will be attempting to fix all invalid entries for 'zipcode', using the other dataset as well as other entries we all aready have."
   ]
  },
  {
   "cell_type": "code",
   "execution_count": 21,
   "metadata": {},
   "outputs": [],
   "source": [
    "# Look at each row in our 'cleaned_la_airbnbs' dataset, then look for only rows that have invalid entries for 'zipcode', which we are stating as zipcodes that aren't 5 digits long or NaN.\n",
    "for zip_index, zip_row in cleaned_la_airbnbs.iterrows():\n",
    "    if (isinstance(cleaned_la_airbnbs.loc[zip_index, 'zipcode'], str) and len(cleaned_la_airbnbs.loc[zip_index, 'zipcode']) != 5) or (isinstance(cleaned_la_airbnbs.loc[zip_index, 'zipcode'], float)):\n",
    "        # If we can find a matching zipcode for the 'neighbourhood_cleansed' as a valid 'city' in 'zipcodes' dataset then we'll take that zipcode.\n",
    "        if len(zipcodes[(zipcodes.loc[:, 'state_id'] == 'CA') & (zipcodes.loc[:, 'city'] == zip_row['neighbourhood_cleansed'])].index) > 0:\n",
    "            cleaned_la_airbnbs.loc[zip_index, 'zipcode'] = zipcodes[(zipcodes.loc[:, 'state_id'] == 'CA') & (zipcodes.loc[:, 'city'] == cleaned_la_airbnbs.loc[zip_index, 'neighbourhood_cleansed'])]['zip'].iloc[0]\n",
    "        # Otherwise lets search our own 'cleaned_la_airbnbs' dataset for an exisiting listing with a zipcode and use that.\n",
    "        else:\n",
    "            for city_index, city_row in cleaned_la_airbnbs.iterrows():\n",
    "                if zip_row['neighbourhood_cleansed'] == city_row['neighbourhood_cleansed']:\n",
    "                    cleaned_la_airbnbs.loc[zip_index, 'zipcode'] = city_row['zipcode']\n",
    "                    break\n",
    "            # If that still doesn't yeild a valid entry we'll try using 'city' instead of 'neighbourhood_cleansed' as a search parameter.  We do this last because all search results will yeild Los Angeles.\n",
    "            if len(zipcodes[(zipcodes.loc[:, 'state_id'] == 'CA') & (zipcodes.loc[:, 'city'] == zip_row['city'])].index) > 0:\n",
    "                cleaned_la_airbnbs.loc[zip_index, 'zipcode'] = zipcodes[(zipcodes.loc[:, 'state_id'] == 'CA') & (zipcodes.loc[:, 'city'] == cleaned_la_airbnbs.loc[zip_index, 'city'])]['zip'].iloc[0]\n",
    "\n",
    "cleaned_la_airbnbs.loc[:, 'zipcode'] = cleaned_la_airbnbs.loc[:, 'zipcode'].astype(int)"
   ]
  },
  {
   "cell_type": "markdown",
   "metadata": {},
   "source": [
    "#### Create our initial Linear Regression model"
   ]
  },
  {
   "cell_type": "code",
   "execution_count": 22,
   "metadata": {},
   "outputs": [
    {
     "name": "stdout",
     "output_type": "stream",
     "text": [
      "0.0009885884452847105\n",
      "0.0005802889405541745\n"
     ]
    }
   ],
   "source": [
    "from sklearn.model_selection import train_test_split\n",
    "from sklearn.linear_model import LinearRegression\n",
    "from sklearn import metrics\n",
    "\n",
    "target_col = 'price'\n",
    "y = cleaned_la_airbnbs.loc[:, target_col]\n",
    "\n",
    "feature_cols = ['zipcode']\n",
    "X = cleaned_la_airbnbs.loc[:, feature_cols]\n",
    "\n",
    "X_train, X_test, y_train, y_test = train_test_split(X, y, random_state = 123)\n",
    "\n",
    "linreg = LinearRegression()\n",
    "linreg.fit(X_train, y_train)\n",
    "print(linreg.score(X_test, y_test))\n",
    "print(linreg.score(X_train, y_train))"
   ]
  },
  {
   "cell_type": "markdown",
   "metadata": {},
   "source": [
    "Looking at different columns to get an idea of what our data looks like and how we can use it.  If a column has null enteries how would we like to handle that.  Should we fill in or drop the rows completely."
   ]
  },
  {
   "cell_type": "code",
   "execution_count": 23,
   "metadata": {},
   "outputs": [],
   "source": [
    "# Clean 'cleaning_fee' and convert to numeric value.\n",
    "cleaned_la_airbnbs.loc[:, 'cleaning_fee'] = cleaned_la_airbnbs.loc[:, 'cleaning_fee'].replace('[\\$,]', '', regex=True).astype(float)"
   ]
  },
  {
   "cell_type": "code",
   "execution_count": 24,
   "metadata": {},
   "outputs": [
    {
     "data": {
      "text/plain": [
       "75.67502780180403"
      ]
     },
     "execution_count": 24,
     "metadata": {},
     "output_type": "execute_result"
    }
   ],
   "source": [
    "cleaned_la_airbnbs.loc[:, 'cleaning_fee'].dropna().mean()"
   ]
  },
  {
   "cell_type": "code",
   "execution_count": 25,
   "metadata": {},
   "outputs": [
    {
     "data": {
      "text/plain": [
       "1.3501185213658786"
      ]
     },
     "execution_count": 25,
     "metadata": {},
     "output_type": "execute_result"
    }
   ],
   "source": [
    "cleaned_la_airbnbs.loc[:, 'bedrooms'].dropna().mean()"
   ]
  },
  {
   "cell_type": "code",
   "execution_count": 26,
   "metadata": {},
   "outputs": [],
   "source": [
    "cleaned_la_airbnbs.loc[:, 'bedrooms'].fillna(value = 1.0, inplace = True)"
   ]
  },
  {
   "cell_type": "code",
   "execution_count": 27,
   "metadata": {},
   "outputs": [
    {
     "data": {
      "text/plain": [
       "1.8889850612297236"
      ]
     },
     "execution_count": 27,
     "metadata": {},
     "output_type": "execute_result"
    }
   ],
   "source": [
    "cleaned_la_airbnbs.loc[:, 'beds'].dropna().mean()"
   ]
  },
  {
   "cell_type": "code",
   "execution_count": 28,
   "metadata": {},
   "outputs": [],
   "source": [
    "cleaned_la_airbnbs.loc[:, 'beds'].fillna(value = 2.0, inplace = True)"
   ]
  },
  {
   "cell_type": "code",
   "execution_count": 29,
   "metadata": {},
   "outputs": [
    {
     "data": {
      "text/plain": [
       "94.21453258029166"
      ]
     },
     "execution_count": 29,
     "metadata": {},
     "output_type": "execute_result"
    }
   ],
   "source": [
    "cleaned_la_airbnbs.loc[:, 'review_scores_rating'].dropna().mean()"
   ]
  },
  {
   "cell_type": "code",
   "execution_count": 30,
   "metadata": {},
   "outputs": [
    {
     "data": {
      "text/plain": [
       "7527"
      ]
     },
     "execution_count": 30,
     "metadata": {},
     "output_type": "execute_result"
    }
   ],
   "source": [
    "cleaned_la_airbnbs.loc[:, 'review_scores_rating'].isna().sum()"
   ]
  },
  {
   "cell_type": "code",
   "execution_count": 45,
   "metadata": {},
   "outputs": [
    {
     "data": {
      "image/png": "[encoded data removed]",
      "text/plain": [
       "<Figure size 1080x1080 with 36 Axes>"
      ]
     },
     "metadata": {
      "needs_background": "light"
     },
     "output_type": "display_data"
    }
   ],
   "source": [
    "# Plot the different types of housing verses the price of rental\n",
    "ax = cleaned_la_airbnbs.hist(column='price', by='property_type', figsize=(15, 15), bins = 30)"
   ]
  },
  {
   "cell_type": "code",
   "execution_count": 44,
   "metadata": {},
   "outputs": [
    {
     "data": {
      "image/png": "[encoded data removed]",
      "text/plain": [
       "<Figure size 720x720 with 6 Axes>"
      ]
     },
     "metadata": {
      "needs_background": "light"
     },
     "output_type": "display_data"
    }
   ],
   "source": [
    "# Plot the different types of bedding verses the price of rental\n",
    "ax = cleaned_la_airbnbs.hist(column='price', by='bed_type', figsize=(10, 10), bins = 50)"
   ]
  },
  {
   "cell_type": "markdown",
   "metadata": {},
   "source": [
    "Check scatter plots of bedrooms and beds to see if there are outliers that might be throwing our model."
   ]
  },
  {
   "cell_type": "code",
   "execution_count": 32,
   "metadata": {},
   "outputs": [
    {
     "data": {
      "image/png": "[encoded data removed]",
      "text/plain": [
       "<Figure size 540x360 with 1 Axes>"
      ]
     },
     "metadata": {
      "needs_background": "light"
     },
     "output_type": "display_data"
    }
   ],
   "source": [
    "g = sns.lmplot(x = 'beds', y = 'price', data = cleaned_la_airbnbs, aspect = 1.5, scatter_kws = {'alpha' : .2})\n",
    "g.ax.set_title('Price vs number of beds');"
   ]
  },
  {
   "cell_type": "code",
   "execution_count": 33,
   "metadata": {},
   "outputs": [
    {
     "data": {
      "text/plain": [
       "15.0        3\n",
       "13.0        4\n",
       "14.0        5\n",
       "11.0       17\n",
       "12.0       19\n",
       "16.0       44\n",
       "9.0        58\n",
       "10.0       86\n",
       "7.0       151\n",
       "8.0       162\n",
       "6.0       444\n",
       "5.0       730\n",
       "4.0      1677\n",
       "3.0      3116\n",
       "2.0      6915\n",
       "1.0     17822\n",
       "Name: beds, dtype: int64"
      ]
     },
     "execution_count": 33,
     "metadata": {},
     "output_type": "execute_result"
    }
   ],
   "source": [
    "cleaned_la_airbnbs.loc[:, 'beds'].value_counts(ascending = True)"
   ]
  },
  {
   "cell_type": "code",
   "execution_count": 34,
   "metadata": {},
   "outputs": [
    {
     "data": {
      "image/png": "[encoded data removed]",
      "text/plain": [
       "<Figure size 540x360 with 1 Axes>"
      ]
     },
     "metadata": {
      "needs_background": "light"
     },
     "output_type": "display_data"
    }
   ],
   "source": [
    "g = sns.lmplot(x = 'bedrooms', y = 'price', data = cleaned_la_airbnbs, aspect = 1.5, scatter_kws = {'alpha' : .2})\n",
    "g.ax.set_title('Price vs number of bedrooms');"
   ]
  },
  {
   "cell_type": "markdown",
   "metadata": {},
   "source": [
    "Seems to have a very housings with very high rental prices, this could be a mistake or very large mansions that could throw our model off.  Better to drop these rows to better fit our model.  Also going to create another dataframe where we drop 'review_scores_rating' instead of filling it to an average score which could throw our model off."
   ]
  },
  {
   "cell_type": "code",
   "execution_count": 35,
   "metadata": {},
   "outputs": [],
   "source": [
    "# Define a function that searches for outliers based off z_score.\n",
    "# Credit belongs to Renu Khandelwal.\n",
    "def find_outliers(dataseries):\n",
    "    mean = np.mean(dataseries)\n",
    "    std = np.std(dataseries)\n",
    "    threshold = 3\n",
    "    outliers = []\n",
    "    \n",
    "    for data in dataseries:\n",
    "        z_score = (data - mean) / std\n",
    "        if np.abs(z_score) > threshold:\n",
    "            outliers.append(data)\n",
    "    return(outliers)"
   ]
  },
  {
   "cell_type": "code",
   "execution_count": 36,
   "metadata": {},
   "outputs": [],
   "source": [
    "prices = cleaned_la_airbnbs.loc[:, 'price']"
   ]
  },
  {
   "cell_type": "code",
   "execution_count": 37,
   "metadata": {},
   "outputs": [
    {
     "name": "stdout",
     "output_type": "stream",
     "text": [
      "1448.0\n"
     ]
    }
   ],
   "source": [
    "price_outliers = find_outliers(prices)\n",
    "print(min(price_outliers))"
   ]
  },
  {
   "cell_type": "code",
   "execution_count": 38,
   "metadata": {},
   "outputs": [],
   "source": [
    "# Drop all rows that are higher than our lowest outlier\n",
    "no_outliers_la_airbnb = cleaned_la_airbnbs[cleaned_la_airbnbs.loc[:, 'price'] <= 1448]"
   ]
  },
  {
   "cell_type": "code",
   "execution_count": 46,
   "metadata": {},
   "outputs": [
    {
     "data": {
      "image/png": "[encoded data removed]",
      "text/plain": [
       "<Figure size 540x360 with 1 Axes>"
      ]
     },
     "metadata": {
      "needs_background": "light"
     },
     "output_type": "display_data"
    }
   ],
   "source": [
    "g = sns.lmplot(x = 'bedrooms', y = 'price', data = no_outliers_la_airbnb, aspect = 1.5, scatter_kws = {'alpha' : .2})\n",
    "g.ax.set_title('Price vs number of bedrooms');"
   ]
  },
  {
   "cell_type": "code",
   "execution_count": 39,
   "metadata": {},
   "outputs": [
    {
     "name": "stdout",
     "output_type": "stream",
     "text": [
      "0.3482454361374968\n",
      "0.3940055233298939\n"
     ]
    }
   ],
   "source": [
    "target_col = 'price'\n",
    "y = no_outliers_la_airbnb.loc[:, target_col]\n",
    "\n",
    "feature_cols = ['zipcode', 'bedrooms']\n",
    "X = no_outliers_la_airbnb.loc[:, feature_cols]\n",
    "\n",
    "X_train, X_test, y_train, y_test = train_test_split(X, y, random_state = 123)\n",
    "\n",
    "linreg = LinearRegression()\n",
    "linreg.fit(X_train, y_train)\n",
    "print(linreg.score(X_test, y_test))\n",
    "print(linreg.score(X_train, y_train))"
   ]
  },
  {
   "cell_type": "code",
   "execution_count": 40,
   "metadata": {},
   "outputs": [],
   "source": [
    "drop_rating_no_outliers_la_airbnb = no_outliers_la_airbnb.dropna(subset = ['review_scores_rating'])"
   ]
  },
  {
   "cell_type": "code",
   "execution_count": 52,
   "metadata": {},
   "outputs": [
    {
     "name": "stdout",
     "output_type": "stream",
     "text": [
      "0.42207089416790483\n",
      "0.418466985491812\n"
     ]
    }
   ],
   "source": [
    "target_col = 'price'\n",
    "y = drop_rating_no_outliers_la_airbnb.loc[:, target_col]\n",
    "\n",
    "feature_cols = ['zipcode', 'bedrooms']\n",
    "X = drop_rating_no_outliers_la_airbnb.loc[:, feature_cols]\n",
    "\n",
    "X_train, X_test, y_train, y_test = train_test_split(X, y, random_state = 123)\n",
    "\n",
    "linreg = LinearRegression()\n",
    "linreg.fit(X_train, y_train)\n",
    "print(linreg.score(X_test, y_test))\n",
    "print(linreg.score(X_train, y_train))"
   ]
  },
  {
   "cell_type": "code",
   "execution_count": 47,
   "metadata": {},
   "outputs": [],
   "source": [
    "# Define a function that accepts a list of features and returns testing RMSE.\n",
    "def train_test_rmse(df, target_col, feature_cols):\n",
    "    y = df.loc[:, target_col]\n",
    "    X = df.loc[:, feature_cols]\n",
    "    \n",
    "    X_train, X_test, y_train, y_test = train_test_split(X, y, random_state=123)\n",
    "    \n",
    "    linreg = LinearRegression()\n",
    "    linreg.fit(X_train, y_train)\n",
    "    \n",
    "    y_pred = linreg.predict(X_test)\n",
    "    mse = metrics.mean_squared_error(y_test, y_pred)\n",
    "    return(np.sqrt(mse))"
   ]
  },
  {
   "cell_type": "code",
   "execution_count": 48,
   "metadata": {},
   "outputs": [
    {
     "name": "stdout",
     "output_type": "stream",
     "text": [
      "426.03877954811435\n",
      "124.16185120418865\n",
      "100.85837376300572\n"
     ]
    }
   ],
   "source": [
    "print(train_test_rmse(cleaned_la_airbnbs, 'price', ['zipcode', 'bedrooms']))\n",
    "print(train_test_rmse(no_outliers_la_airbnb, 'price', ['zipcode', 'bedrooms']))\n",
    "print(train_test_rmse(drop_rating_no_outliers_la_airbnb, 'price', ['zipcode', 'bedrooms']))"
   ]
  },
  {
   "cell_type": "code",
   "execution_count": 50,
   "metadata": {},
   "outputs": [
    {
     "data": {
      "image/png": "[encoded data removed]",
      "text/plain": [
       "<Figure size 720x720 with 2 Axes>"
      ]
     },
     "metadata": {
      "needs_background": "light"
     },
     "output_type": "display_data"
    }
   ],
   "source": [
    "# Heatmap of correlation matrix\n",
    "fig, ax = plt.subplots(figsize=(10,10))         \n",
    "sns.heatmap(drop_rating_no_outliers_la_airbnb.corr(),vmin=-1,\n",
    "            vmax=1,cmap=sns.diverging_palette(h_neg=220, h_pos=10, n=21), linewidths=.5, ax=ax);"
   ]
  },
  {
   "cell_type": "markdown",
   "metadata": {},
   "source": [
    "We can see that by dropping the outlying AirBnB prices we have come up with a much better model.  Dropping the listings that don't have reviews also seemed to have made our model better.  With less data points we have made our model better."
   ]
  }
 ],
 "metadata": {
  "kernelspec": {
   "display_name": "Python 3",
   "language": "python",
   "name": "python3"
  },
  "language_info": {
   "codemirror_mode": {
    "name": "ipython",
    "version": 3
   },
   "file_extension": ".py",
   "mimetype": "text/x-python",
   "name": "python",
   "nbconvert_exporter": "python",
   "pygments_lexer": "ipython3",
   "version": "3.7.3"
  }
 },
 "nbformat": 4,
 "nbformat_minor": 2
}
